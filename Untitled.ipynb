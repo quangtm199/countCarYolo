{
 "cells": [
  {
   "cell_type": "code",
   "execution_count": 15,
   "metadata": {},
   "outputs": [],
   "source": [
    "import math\n",
    "Arr=[[2,13],[14,3],[4,11]]"
   ]
  },
  {
   "cell_type": "code",
   "execution_count": 1,
   "metadata": {},
   "outputs": [],
   "source": [
    "Arr=[5,1,3,2,6]\n",
    "        "
   ]
  },
  {
   "cell_type": "code",
   "execution_count": 5,
   "metadata": {},
   "outputs": [],
   "source": [
    "\n",
    "def snt(n):\n",
    "    #flag = 0 => không phải số nguyên tố\n",
    "    #flag = 1 => số nguyên tố\n",
    "    flag = 1;\n",
    "    if (n <2):\n",
    "        flag = 0\n",
    "        return flag  #Số nhỏ hơn 2 không phải số nguyên tố => trả về 0\n",
    "    \n",
    "    #Sử dụng vòng lặp while để kiểm tra có tồn tại ước số nào khác không\n",
    "    for p in range(2, n):\n",
    "        if n % p == 0:\n",
    "            flag = 0\n",
    "            break #Chỉ cần tìm thấy 1 ước số là đủ và thoát vòng lặp\n",
    "    return flag"
   ]
  },
  {
   "cell_type": "code",
   "execution_count": null,
   "metadata": {},
   "outputs": [],
   "source": []
  },
  {
   "cell_type": "code",
   "execution_count": null,
   "metadata": {},
   "outputs": [],
   "source": []
  },
  {
   "cell_type": "code",
   "execution_count": 6,
   "metadata": {},
   "outputs": [],
   "source": [
    "n=5"
   ]
  },
  {
   "cell_type": "code",
   "execution_count": 20,
   "metadata": {},
   "outputs": [
    {
     "name": "stdout",
     "output_type": "stream",
     "text": [
      "5\n",
      "5 1 3 2 6\n"
     ]
    }
   ],
   "source": [
    "n=int(input())\n",
    "chuoi=input()\n",
    "Arr=[int(i) for i in chuoi.split(\" \")]"
   ]
  },
  {
   "cell_type": "code",
   "execution_count": 21,
   "metadata": {},
   "outputs": [
    {
     "data": {
      "text/plain": [
       "[5, 1, 3, 2, 6]"
      ]
     },
     "execution_count": 21,
     "metadata": {},
     "output_type": "execute_result"
    }
   ],
   "source": [
    "Arr"
   ]
  },
  {
   "cell_type": "code",
   "execution_count": 56,
   "metadata": {},
   "outputs": [
    {
     "name": "stdout",
     "output_type": "stream",
     "text": [
      "5\n",
      "5 1 3 2 6\n"
     ]
    },
    {
     "ename": "TypeError",
     "evalue": "can only concatenate list (not \"int\") to list",
     "output_type": "error",
     "traceback": [
      "\u001b[0;31m---------------------------------------------------------------------------\u001b[0m",
      "\u001b[0;31mTypeError\u001b[0m                                 Traceback (most recent call last)",
      "\u001b[0;32m<ipython-input-56-87e2241142f1>\u001b[0m in \u001b[0;36m<module>\u001b[0;34m\u001b[0m\n\u001b[1;32m     24\u001b[0m \u001b[0;32mif\u001b[0m \u001b[0mn\u001b[0m\u001b[0;34m>\u001b[0m\u001b[0;36m2\u001b[0m\u001b[0;34m:\u001b[0m\u001b[0;34m\u001b[0m\u001b[0;34m\u001b[0m\u001b[0m\n\u001b[1;32m     25\u001b[0m     \u001b[0;32mfor\u001b[0m \u001b[0mi\u001b[0m \u001b[0;32min\u001b[0m \u001b[0mrange\u001b[0m\u001b[0;34m(\u001b[0m\u001b[0mn\u001b[0m\u001b[0;34m)\u001b[0m\u001b[0;34m:\u001b[0m\u001b[0;34m\u001b[0m\u001b[0;34m\u001b[0m\u001b[0m\n\u001b[0;32m---> 26\u001b[0;31m         \u001b[0mtong\u001b[0m\u001b[0;34m=\u001b[0m\u001b[0mtong\u001b[0m\u001b[0;34m+\u001b[0m\u001b[0mArr\u001b[0m\u001b[0;34m[\u001b[0m\u001b[0mi\u001b[0m\u001b[0;34m]\u001b[0m\u001b[0;34m\u001b[0m\u001b[0;34m\u001b[0m\u001b[0m\n\u001b[0m\u001b[1;32m     27\u001b[0m     \u001b[0mminkx\u001b[0m\u001b[0;34m=\u001b[0m\u001b[0mtong\u001b[0m\u001b[0;34m\u001b[0m\u001b[0;34m\u001b[0m\u001b[0m\n\u001b[1;32m     28\u001b[0m     \u001b[0;32mfor\u001b[0m \u001b[0mi\u001b[0m \u001b[0;32min\u001b[0m \u001b[0mrange\u001b[0m\u001b[0;34m(\u001b[0m\u001b[0mn\u001b[0m\u001b[0;34m)\u001b[0m\u001b[0;34m:\u001b[0m\u001b[0;34m\u001b[0m\u001b[0;34m\u001b[0m\u001b[0m\n",
      "\u001b[0;31mTypeError\u001b[0m: can only concatenate list (not \"int\") to list"
     ]
    }
   ],
   "source": [
    "import math\n",
    "def snt(n):\n",
    "    #flag = 0 => không phải số nguyên tố\n",
    "    #flag = 1 => số nguyên tố\n",
    "    flag = 1;\n",
    "    if (n <2):\n",
    "        flag = 0\n",
    "        return flag  #Số nhỏ hơn 2 không phải số nguyên tố => trả về 0\n",
    "    \n",
    "    #Sử dụng vòng lặp while để kiểm tra có tồn tại ước số nào khác không\n",
    "    for p in range(2, int(math.sqrt(n)+1)):\n",
    "        if n % p == 0:\n",
    "            flag = 0\n",
    "            break #Chỉ cần tìm thấy 1 ước số là đủ và thoát vòng lặp\n",
    "    return flag\n",
    "\n",
    "n=int(input())\n",
    "chuoi=input()\n",
    "Arr=[int(i) for i in chuoi.split(\" \")]\n",
    "chia=[]\n",
    "# tong=0\n",
    "tong=[]\n",
    "# minkx=10000000000000000000000000000\n",
    "if n>2:\n",
    "    for i in range(n):\n",
    "        tong=tong+Arr[i]\n",
    "    minkx=tong\n",
    "    for i in range(n):\n",
    "        left=0\n",
    "        right=0\n",
    "        if snt(i):\n",
    "            if i>n-i:\n",
    "                for j in range(i):\n",
    "                    left=left+Arr[j]\n",
    "                right=tong-left\n",
    "                if abs(right-left)<minkx:\n",
    "                    minkx= abs(right-left)\n",
    "                if right-left<0:\n",
    "                    break\n",
    "            else:\n",
    "                for j in range(n-1,i,-1):\n",
    "                   \n",
    "                    right=right+Arr[j]\n",
    "                left=tong-right\n",
    "                if abs(right-left)<minkx:\n",
    "                    minkx= abs(right-left)\n",
    "                if left-right<0:\n",
    "                    break\n",
    "                    \n",
    "    print(minkx)  \n",
    "else:\n",
    "    print(abs(Arr[1]-Arr[0]))\n",
    "    "
   ]
  },
  {
   "cell_type": "code",
   "execution_count": null,
   "metadata": {},
   "outputs": [],
   "source": []
  },
  {
   "cell_type": "code",
   "execution_count": 63,
   "metadata": {},
   "outputs": [],
   "source": []
  },
  {
   "cell_type": "code",
   "execution_count": 77,
   "metadata": {},
   "outputs": [
    {
     "name": "stdout",
     "output_type": "stream",
     "text": [
      "1\n"
     ]
    }
   ],
   "source": [
    "import math\n",
    "n=int(input())\n",
    "chuoi=input()\n",
    "Arr=[int(i) for i in chuoi.split(\" \")]\n",
    "chia=[]\n",
    "# tong=0\n",
    "tong=[]\n",
    "def snt(n):\n",
    "    #flag = 0 => không phải số nguyên tố\n",
    "    #flag = 1 => số nguyên tố\n",
    "    flag = 1;\n",
    "    if (n <2):\n",
    "        flag = 0\n",
    "        return flag  #Số nhỏ hơn 2 không phải số nguyên tố => trả về 0\n",
    "    #Sử dụng vòng lặp while để kiểm tra có tồn tại ước số nào khác không\n",
    "    for p in range(2, int(math.sqrt(n)+1)):\n",
    "        if n % p == 0:\n",
    "            flag = 0\n",
    "            break #Chỉ cần tìm thấy 1 ước số là đủ và thoát vòng lặp\n",
    "    return flag\n",
    "\n",
    "tong=[Arr[0]]\n",
    "SUMtong=Arr[0]\n",
    "liststn=[]\n",
    "if n>2:\n",
    "    for i in range(1,n,1):\n",
    "        tong.append(tong[i-1]+Arr[i])\n",
    "        SUMtong=SUMtong+Arr[i]\n",
    "#         if snt(i):\n",
    "        liststn.append(i)\n",
    "    minid=SUMtong\n",
    "    for i in liststn:\n",
    "        left=tong[i]\n",
    "        right=SUMtong-left\n",
    "    \n",
    "        minid=min(minid,abs(right-left))\n",
    "\n",
    "    print(minid)\n",
    "else:\n",
    "    print(abs(Arr[1]-Arr[0]))"
   ]
  },
  {
   "cell_type": "code",
   "execution_count": 68,
   "metadata": {},
   "outputs": [
    {
     "data": {
      "text/plain": [
       "[5, 6, 9, 11, 17]"
      ]
     },
     "execution_count": 68,
     "metadata": {},
     "output_type": "execute_result"
    }
   ],
   "source": [
    "tong"
   ]
  },
  {
   "cell_type": "code",
   "execution_count": 69,
   "metadata": {},
   "outputs": [
    {
     "data": {
      "text/plain": [
       "[5, 1, 3, 2, 6]"
      ]
     },
     "execution_count": 69,
     "metadata": {},
     "output_type": "execute_result"
    }
   ],
   "source": [
    "Arr"
   ]
  },
  {
   "cell_type": "code",
   "execution_count": 78,
   "metadata": {},
   "outputs": [],
   "source": [
    "a,b=3,4"
   ]
  },
  {
   "cell_type": "code",
   "execution_count": 95,
   "metadata": {},
   "outputs": [],
   "source": [
    "Arr=[[20,2,3,4],[6,5,5,6 ],[4,3,2,21]]"
   ]
  },
  {
   "cell_type": "code",
   "execution_count": 129,
   "metadata": {},
   "outputs": [],
   "source": [
    "def count(i,j):\n",
    "    if i-1<0:\n",
    "        x=0\n",
    "    else:\n",
    "        x=Arr[i-1][j]\n",
    "    try:\n",
    "        y=Arr[i+1][j]\n",
    "    except:\n",
    "        y=0\n",
    "    if j-1<0:\n",
    "        z=0\n",
    "    else:\n",
    "        z=Arr[i][j-1]\n",
    "    try:\n",
    "        h=Arr[i][j+1]\n",
    "    except:\n",
    "        h=0  \n",
    "#     print(Arr[i][j],x,y,z,h)\n",
    "    tong=Arr[i][j]+x+y+z+h\n",
    "    return tong"
   ]
  },
  {
   "cell_type": "code",
   "execution_count": 112,
   "metadata": {},
   "outputs": [
    {
     "name": "stdout",
     "output_type": "stream",
     "text": [
      "20 0 6 0 2\n"
     ]
    }
   ],
   "source": [
    "tong=count(0,0)"
   ]
  },
  {
   "cell_type": "code",
   "execution_count": 123,
   "metadata": {},
   "outputs": [
    {
     "name": "stdout",
     "output_type": "stream",
     "text": [
      "3 4\n",
      "20 2 3 4\n",
      "6 5 5 6\n",
      "4 3 2 21\n"
     ]
    }
   ],
   "source": [
    "a,b =[int(i) for i in str(input()).split(\" \")]\n",
    "\n",
    "Arr=[]\n",
    "\n",
    "for i in range(0,a,1):\n",
    "    Arr.append([int(i) for i in str(input()).split(\" \")])\n",
    "    "
   ]
  },
  {
   "cell_type": "code",
   "execution_count": 140,
   "metadata": {},
   "outputs": [
    {
     "name": "stdout",
     "output_type": "stream",
     "text": [
      "3 4\n",
      "20 2 3 4\n",
      "6 5 5 6\n",
      "4 3 2 21\n",
      "21\n"
     ]
    }
   ],
   "source": [
    "\n",
    "a,b =[int(i) for i in str(input()).split(\" \")]\n",
    "Arr=[]\n",
    "for i in range(0,a,1):\n",
    "    Arr.append([int(i) for i in str(input()).split(\" \")])\n",
    "    \n",
    "for i in range(len(Arr)):\n",
    "    for j in range(len(Arr[i])):\n",
    "#         tong=count(i,j)\n",
    "        if Arr[i][j] > ma1x:\n",
    "            ma1x=Arr[i][j]\n",
    "#             save=Arr[i][j]\n",
    "print(ma1x)"
   ]
  },
  {
   "cell_type": "code",
   "execution_count": 138,
   "metadata": {},
   "outputs": [
    {
     "data": {
      "text/plain": [
       "21"
      ]
     },
     "execution_count": 138,
     "metadata": {},
     "output_type": "execute_result"
    }
   ],
   "source": [
    "ma1x"
   ]
  },
  {
   "cell_type": "code",
   "execution_count": null,
   "metadata": {},
   "outputs": [],
   "source": []
  }
 ],
 "metadata": {
  "kernelspec": {
   "display_name": "Python 3",
   "language": "python",
   "name": "python3"
  },
  "language_info": {
   "codemirror_mode": {
    "name": "ipython",
    "version": 3
   },
   "file_extension": ".py",
   "mimetype": "text/x-python",
   "name": "python",
   "nbconvert_exporter": "python",
   "pygments_lexer": "ipython3",
   "version": "3.8.3"
  }
 },
 "nbformat": 4,
 "nbformat_minor": 4
}
